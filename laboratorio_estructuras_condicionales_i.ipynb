{
  "nbformat": 4,
  "nbformat_minor": 0,
  "metadata": {
    "colab": {
      "provenance": [],
      "include_colab_link": true
    },
    "kernelspec": {
      "name": "python3",
      "display_name": "Python 3"
    },
    "language_info": {
      "name": "python"
    }
  },
  "cells": [
    {
      "cell_type": "markdown",
      "metadata": {
        "id": "view-in-github",
        "colab_type": "text"
      },
      "source": [
        "<a href=\"https://colab.research.google.com/github/JuanAlarconS/2025-Curso-Python/blob/main/laboratorio_estructuras_condicionales_i.ipynb\" target=\"_parent\"><img src=\"https://colab.research.google.com/assets/colab-badge.svg\" alt=\"Open In Colab\"/></a>"
      ]
    },
    {
      "cell_type": "code",
      "execution_count": null,
      "metadata": {
        "id": "0K7syxYL6kdI",
        "colab": {
          "base_uri": "https://localhost:8080/"
        },
        "outputId": "9be698b8-4eb7-4d0a-e087-ec0e91957c38"
      },
      "outputs": [
        {
          "output_type": "execute_result",
          "data": {
            "text/plain": [
              "13"
            ]
          },
          "metadata": {},
          "execution_count": 2
        }
      ],
      "source": [
        "3+5*2"
      ]
    },
    {
      "cell_type": "code",
      "source": [
        "monto = 500"
      ],
      "metadata": {
        "id": "LYiEdFUdFRYX"
      },
      "execution_count": null,
      "outputs": []
    },
    {
      "cell_type": "code",
      "source": [
        "monto"
      ],
      "metadata": {
        "colab": {
          "base_uri": "https://localhost:8080/"
        },
        "id": "84tdDVjvFggK",
        "outputId": "21134dc6-bc81-4461-d516-f6c5dee90de0"
      },
      "execution_count": null,
      "outputs": [
        {
          "output_type": "execute_result",
          "data": {
            "text/plain": [
              "500"
            ]
          },
          "metadata": {},
          "execution_count": 4
        }
      ]
    },
    {
      "cell_type": "code",
      "source": [
        "if monto > 100:\n",
        "    print (\"Monto Aprobado\")\n",
        "\n",
        "else:\n",
        "    print (\"Monto Denegado\")"
      ],
      "metadata": {
        "colab": {
          "base_uri": "https://localhost:8080/"
        },
        "id": "aHy0jj6fFlBK",
        "outputId": "d97b1ea6-50af-4e56-a47d-f7bac9699741"
      },
      "execution_count": null,
      "outputs": [
        {
          "output_type": "stream",
          "name": "stdout",
          "text": [
            "Monto Aprobado\n"
          ]
        }
      ]
    },
    {
      "cell_type": "markdown",
      "source": [
        "Coloquemos una sentencia que permita evaluar si un monto es aprobado, pre aprobado o denegado, consideren que aprobado >100, pre aprobado> 50, denegado >700"
      ],
      "metadata": {
        "id": "G23PZN0oKra9"
      }
    },
    {
      "cell_type": "code",
      "source": [
        "if monto > 700:\n",
        "    print (\"Monto Denegado\")\n",
        "elif monto >100:\n",
        "    print (\"Monto Aprobado\")\n",
        "else:\n",
        "    print (\"Monto pre aprobado\")"
      ],
      "metadata": {
        "colab": {
          "base_uri": "https://localhost:8080/"
        },
        "id": "7UrGH2BZKg1f",
        "outputId": "d3a15ea9-e9a0-4b01-8b27-9a7af2824254"
      },
      "execution_count": null,
      "outputs": [
        {
          "output_type": "stream",
          "name": "stdout",
          "text": [
            "Monto Aprobado\n"
          ]
        }
      ]
    },
    {
      "cell_type": "markdown",
      "source": [
        "Una tarjeta en el banco A tiene las siguientes condiciones: ORO (ingresos mayores 1,000), PLATA (ingresos MIN 500) BÁSICA (< 500). Evaluar al cliente B con ingresos = 700"
      ],
      "metadata": {
        "id": "MPjC6j7zNrx7"
      }
    },
    {
      "cell_type": "code",
      "source": [
        "ingresos = 700\n",
        "if ingresos > 1000:\n",
        "    print (\"Tarjeta ORO\")\n",
        "elif ingresos >500:\n",
        "    print (\"Tarjeta PLATA\")\n",
        "else:\n",
        "    print (\"Tarjeta BÁSICA\")"
      ],
      "metadata": {
        "colab": {
          "base_uri": "https://localhost:8080/"
        },
        "id": "DwYYwag3Oqyk",
        "outputId": "548b424e-9015-4bae-ef64-4f02798c5bf2"
      },
      "execution_count": null,
      "outputs": [
        {
          "output_type": "stream",
          "name": "stdout",
          "text": [
            "Tarjeta PLATA\n"
          ]
        }
      ]
    },
    {
      "cell_type": "code",
      "source": [
        "ingresos = int(input(\"Registre su ingreso:\"))\n",
        "if ingresos > 1000:\n",
        "    print (\"Tarjeta ORO\")\n",
        "elif ingresos > 500:\n",
        "    print (\"Tarjeta PLATA\")\n",
        "else:\n",
        "    print (\"Tarjeta BÀSICA\")"
      ],
      "metadata": {
        "colab": {
          "base_uri": "https://localhost:8080/"
        },
        "id": "L-gR_NCaPfCZ",
        "outputId": "33489d89-91ce-44c6-d126-6bae22b434d6"
      },
      "execution_count": null,
      "outputs": [
        {
          "output_type": "stream",
          "name": "stdout",
          "text": [
            "Registre su ingreso:250\n",
            "Tarjeta BÀSICA\n"
          ]
        }
      ]
    },
    {
      "cell_type": "markdown",
      "source": [
        "Determinar la tasa de interés en función de un score crediticio:\n",
        "\n",
        "Score >=800 -> tasa 10%\n",
        "700 - 799 -> tasa 14%\n",
        "<700 -> tasa 20%\n"
      ],
      "metadata": {
        "id": "Lb49Pe_BQsk5"
      }
    },
    {
      "cell_type": "markdown",
      "source": [],
      "metadata": {
        "id": "7DENN7DmS0Li"
      }
    },
    {
      "cell_type": "code",
      "source": [
        "Score = int(input(\"Ingrese su score\"))\n",
        "if Score >= 800:\n",
        "    print (\"Tasa 10%\")\n",
        "elif Score >= 700:\n",
        "    print (\"Tasa 14%\")\n",
        "else:\n",
        "    print (\"Tasa 20%\")\n"
      ],
      "metadata": {
        "colab": {
          "base_uri": "https://localhost:8080/"
        },
        "id": "_dqv0klcWAVa",
        "outputId": "6520d575-0758-4605-da80-b8216b854440"
      },
      "execution_count": null,
      "outputs": [
        {
          "output_type": "stream",
          "name": "stdout",
          "text": [
            "Ingrese su score200\n",
            "Tasa 20%\n"
          ]
        }
      ]
    },
    {
      "cell_type": "code",
      "source": [
        "Score = int(input(\"Ingrese su score:\"))\n",
        "tasa = \"\"\n",
        "if Score >= 800:\n",
        "    tasa = \"10%\"\n",
        "elif Score >= 700:\n",
        "    tasa = \"14%\"\n",
        "else:\n",
        "    tasa = \"20%\"\n",
        "print(\"La tasa de interes es:\",tasa)"
      ],
      "metadata": {
        "colab": {
          "base_uri": "https://localhost:8080/"
        },
        "id": "coVCQB14S0ok",
        "outputId": "ea9e9487-2854-4506-f345-f2b8db7f90b6"
      },
      "execution_count": null,
      "outputs": [
        {
          "output_type": "stream",
          "name": "stdout",
          "text": [
            "Ingrese su score:500\n",
            "La tasa de interes es: 20%\n"
          ]
        }
      ]
    },
    {
      "cell_type": "code",
      "source": [
        "Score = int(input(\"Ingrese su score:\"))\n",
        "tasa = \"\"\n",
        "if Score >= 800:\n",
        "    tasa = 0.1\n",
        "elif Score >= 700:\n",
        "    tasa = 0.14\n",
        "else:\n",
        "    tasa = 0.2\n",
        "print(\"La tasa de interes es (20% = 0.2):\",tasa)"
      ],
      "metadata": {
        "colab": {
          "base_uri": "https://localhost:8080/"
        },
        "id": "0PzARlG5UVYF",
        "outputId": "665a52d4-6f17-4579-ff7a-23575a47dd55"
      },
      "execution_count": null,
      "outputs": [
        {
          "output_type": "stream",
          "name": "stdout",
          "text": [
            "Ingrese su score:500\n",
            "La tasa de interes es (20% = 0.2): 0.2\n"
          ]
        }
      ]
    },
    {
      "cell_type": "code",
      "source": [
        "type(tasa)"
      ],
      "metadata": {
        "colab": {
          "base_uri": "https://localhost:8080/"
        },
        "id": "sVTZM8fbUt3J",
        "outputId": "262ac37d-9bb0-456c-f438-c330d10ecf85"
      },
      "execution_count": null,
      "outputs": [
        {
          "output_type": "execute_result",
          "data": {
            "text/plain": [
              "str"
            ]
          },
          "metadata": {},
          "execution_count": 16
        }
      ]
    },
    {
      "cell_type": "markdown",
      "source": [
        "Ejercicio 1: Clasificación de riesgo\n",
        "Dado el ingreso mensual y el nivel de deuda, imprimir:\n",
        "\"Riesgo Bajo\" si deuda < 30% del ingreso.\n",
        "\"Riesgo Medio\" si deuda entre 30% y 50%.\n",
        "\"Riesgo Alto\" si deuda > 50%."
      ],
      "metadata": {
        "id": "TcfoEt2eZFvJ"
      }
    },
    {
      "cell_type": "markdown",
      "source": [
        "Ejercicio 2: Simulación de aprobación\n",
        "Preguntar ingreso, score y deudas. Aprobar solo si:\n",
        "ingreso ≥ 5000\n",
        "score ≥ 700\n",
        "deuda ≤ 40% ingreso."
      ],
      "metadata": {
        "id": "--UVpWxXZHFM"
      }
    },
    {
      "cell_type": "markdown",
      "source": [
        "Ejercicio 3: Rango de montos de crédito\n",
        "Según ingreso, asignar el monto máximo de préstamo:\n",
        "≥ 10000: hasta 80,000\n",
        "7000–9999: hasta 50,000\n",
        "< 7000: hasta 20,000"
      ],
      "metadata": {
        "id": "tPpU5QOTZNpP"
      }
    },
    {
      "cell_type": "markdown",
      "source": [
        "Ejercicio 4: Calcular la cuota mensual de un préstamo usando if para definir la tasa según plazo (12, 24 o 36 meses)."
      ],
      "metadata": {
        "id": "-27J0SLnZTUF"
      }
    },
    {
      "cell_type": "markdown",
      "source": [
        "# Tarea"
      ],
      "metadata": {
        "id": "K6YutrDIoDxE"
      }
    },
    {
      "cell_type": "markdown",
      "source": [
        "**Evaluación de crédito personal en Python**\n",
        "\n",
        "\n",
        "Un banco quiere automatizar el análisis de solicitudes de crédito personal.\n",
        "\n",
        "Crea un programa que pida o defina las siguientes variables:\n",
        "* Monto solicitado\n",
        "* Ingreso mensual\n",
        "* Historial de pagos (puede ser \"bueno\" o \"malo\")\n",
        "* Tipo de cliente (\"normal\" o \"premium\")\n",
        "* Deuda total (suma de todas las deudas que el cliente ya tiene)\n",
        "\n",
        "El programa debe:\n",
        "\n",
        "1. Evaluar si el crédito es aprobado, cuando cumple con:\n",
        "* Ingreso mensual ≥ 1500\n",
        "* Monto solicitado ≤ 5 veces el ingreso mensual\n",
        "* Historial de pagos bueno\n",
        "\n",
        "2. Asignar la tasa de interés\n",
        "* Si es cliente premium y tiene ingreso me nsual > 5000 → tasa 8%\n",
        "* En cualquier otro caso → tasa 12%\n",
        "\n",
        "3. Clasificar el riesgo crediticio según el porcentaje de deuda sobre el ingreso anual:\n",
        "* Bajo riesgo si el porcentaje es menor a 30%\n",
        "* Riesgo medio si está entre 30% y 60%\n",
        "* Alto riesgo si es mayor a 60%\n",
        "\n",
        "4. Mostrar un resumen final con:\n",
        "* Resultado de la aprobación o rechazo\n",
        "* Tasa de interés asignada\n",
        "* Clasificación de riesgo\n",
        "* Porcentaje de deuda sobre ingreso anual"
      ],
      "metadata": {
        "id": "uTlsa-MiilK0"
      }
    },
    {
      "cell_type": "code",
      "source": [
        "# Solicitar info al cliente\n",
        "monto_solicitado = float(input(\"Ingrese el monto solicitado: \"))\n",
        "ingreso_mensual = float(input(\"Ingrese el ingreso mensual: \"))\n",
        "historial_pagos = input(\"Ingrese el historial de pagos (bueno/malo): \").lower()\n",
        "tipo_cliente = input(\"Ingrese el tipo de cliente (normal/premium): \").lower()\n",
        "deuda_total = float(input(\"Ingrese la deuda total actual: \"))\n",
        "\n",
        "# Evaluar aprobación del crédito\n",
        "if (ingreso_mensual >= 1500 and\n",
        "    monto_solicitado <= 5 * ingreso_mensual and\n",
        "    historial_pagos == \"bueno\"):\n",
        "    aprobado = True\n",
        "else:\n",
        "    aprobado = False\n",
        "\n",
        "# Asignar tasa de interés\n",
        "if tipo_cliente == \"premium\" and ingreso_mensual > 5000:\n",
        "    tasa_interes = 0.08  # 8%\n",
        "else:\n",
        "    tasa_interes = 0.12  # 12%\n",
        "\n",
        "# Calcular porcentaje de deuda sobre ingreso anual\n",
        "ingreso_anual = ingreso_mensual * 12\n",
        "porcentaje_deuda = (deuda_total / ingreso_anual) * 100\n",
        "\n",
        "# Clasificar riesgo crediticio\n",
        "if porcentaje_deuda < 30:\n",
        "    riesgo = \"Bajo\"\n",
        "elif 30 <= porcentaje_deuda <= 60:\n",
        "    riesgo = \"Medio\"\n",
        "else:\n",
        "    riesgo = \"Alto\"\n",
        "\n",
        "# Mostrar resumen final\n",
        "print(\"\\n--- Resumen de evaluación de crédito ---\")\n",
        "if aprobado:\n",
        "    print(\"Resultado: Crédito APROBADO\")\n",
        "else:\n",
        "    print(\"Resultado: Crédito RECHAZADO\")\n",
        "print(f\"Tasa de interés asignada: {tasa_interes * 100}%\")\n",
        "print(f\"Clasificación de riesgo: {riesgo}\")\n",
        "print(f\"Porcentaje de deuda sobre ingreso anual: {porcentaje_deuda:.2f}%\")\n"
      ],
      "metadata": {
        "id": "RFmuigMNgXS7",
        "outputId": "14ec34c1-3aa2-461f-85b4-f2dd996b69f5",
        "colab": {
          "base_uri": "https://localhost:8080/"
        }
      },
      "execution_count": null,
      "outputs": [
        {
          "output_type": "stream",
          "name": "stdout",
          "text": [
            "Ingrese el monto solicitado: 1000\n",
            "Ingrese el ingreso mensual: 2000\n",
            "Ingrese el historial de pagos (bueno/malo): bueno\n",
            "Ingrese el tipo de cliente (normal/premium): normal\n",
            "Ingrese la deuda total actual: 300\n",
            "\n",
            "--- Resumen de evaluación de crédito ---\n",
            "Resultado: Crédito APROBADO\n",
            "Tasa de interés asignada: 12.0%\n",
            "Clasificación de riesgo: Bajo\n",
            "Porcentaje de deuda sobre ingreso anual: 1.25%\n"
          ]
        }
      ]
    },
    {
      "cell_type": "markdown",
      "source": [
        "1.- Evaluar si una persona puede solicitar un crédito personal: ingreso ≥ 1500.\n",
        "2.-Determinar si un cliente recibe bono: si es \"premium\", bono de 10%; si es \"normal\", 5%.\n",
        "3.-Validar si una deuda está en riesgo: bajo (<30%), medio (30-50%), alto (>50%).\n",
        "4.- Aprobar un préstamo solo si score ≥ 700 y deuda ≤ 40% del ingreso."
      ],
      "metadata": {
        "id": "X84WAy94xu9S"
      }
    },
    {
      "cell_type": "code",
      "source": [
        "ingreso = float(input(\"Ingrese su ingreso: \"))\n",
        "if ingreso >= 1500:\n",
        "\n",
        "  print(f\"Sujeto a Credito por ingreso > {ingreso: .2f}\")\n",
        "elif ingreso < 1500 and ingreso >0 :\n",
        "  print(f\"No sujeto a credito\")\n",
        "else:\n",
        "  print(f\"No sujero a evaluacion\")"
      ],
      "metadata": {
        "id": "vMSnCCHtx-0Y",
        "outputId": "7de4164e-eda7-40be-81ef-dfe81997c62d",
        "colab": {
          "base_uri": "https://localhost:8080/"
        }
      },
      "execution_count": null,
      "outputs": [
        {
          "output_type": "stream",
          "name": "stdout",
          "text": [
            "Ingrese su ingreso: -1\n",
            "No sujero a evaluacion\n"
          ]
        }
      ]
    },
    {
      "cell_type": "code",
      "source": [
        " cliente_tipo = input(\"Ingrese el tipo de cliente (PREMIUM/NORMAL):\").lower()\n",
        "\n",
        "if cliente_tipo == \"premium\":\n",
        "  bono = \"10%\"\n",
        "  print(f\"Cliente Recibe Bono de {bono}\")\n",
        "elif cliente_tipo == \"normal\":\n",
        "  bono = \"5%\"\n",
        "  print(f\"Cliente Recibe Bono de {bono}\")\n",
        "else:\n",
        "  print(f\"Cliente no sujeto a bono\")"
      ],
      "metadata": {
        "id": "nQQo-L5z10km",
        "outputId": "4dcba3af-39d5-479b-cf3f-0b821ca0c923",
        "colab": {
          "base_uri": "https://localhost:8080/"
        }
      },
      "execution_count": null,
      "outputs": [
        {
          "output_type": "stream",
          "name": "stdout",
          "text": [
            "Ingrese el tipo de cliente (PREMIUM/NORMAL):normal\n",
            "Cliente Recibe Bono de 5%\n"
          ]
        }
      ]
    },
    {
      "cell_type": "code",
      "source": [
        "#3.-Validar si una deuda está en riesgo: bajo (<30%), medio (30-50%), alto (>50%)\n",
        "\n",
        "deuda = float(input(\"Ingrese su deuda: \"))\n",
        "ingreso = int(input(\"Ingrese sus ingresos: \"))\n",
        "if deuda <= ingreso*0.30:\n",
        "  riesgo = \"bajo\"\n",
        "  print(f\"Su riesgo es {riesgo}\")\n",
        "elif  deuda <= ingreso*0.50 and deuda > ingreso*0.30:\n",
        "  riesgo = \"medio\"\n",
        "  print(f\"Su riesgo es {riesgo}\")\n",
        "else:\n",
        "  riesgo = \"alto\"\n",
        "  print(f\"Su riesgo es {riesgo}\")\n"
      ],
      "metadata": {
        "id": "h8LrqidC6L5l",
        "outputId": "238522f3-cbdf-4ce6-b961-b5070869451e",
        "colab": {
          "base_uri": "https://localhost:8080/"
        }
      },
      "execution_count": null,
      "outputs": [
        {
          "output_type": "stream",
          "name": "stdout",
          "text": [
            "Ingrese su deuda: 2000\n",
            "Ingrese sus ingresos: 1000\n",
            "Su riesgo es alto\n"
          ]
        }
      ]
    },
    {
      "cell_type": "code",
      "source": [
        "ingreso = 4000\n",
        "score = 750\n",
        "if ingreso"
      ],
      "metadata": {
        "id": "xW-mVZ8D9-5o"
      },
      "execution_count": null,
      "outputs": []
    },
    {
      "cell_type": "code",
      "source": [
        "encendido = input(\"Ingrese el estado del Horno (ENCENDIDO/APAGADO)\").lower()\n",
        "if encendido== \"encendido\":\n",
        "  temperatura = int(input(\"Ingrese Temperatura: \"))\n",
        "  tiempo = int(input(\"Ingrese tiempo\"))\n",
        "  if temperatura >= 180:\n",
        "    if tiempo >= 15:\n",
        "      print(f\"Las gallestas estan lista\")\n",
        "    else:\n",
        "      print(f\"Poco tiempo\")\n",
        "  else:\n",
        "    print(f\"Baja temperatura\")\n",
        "else:\n",
        "  print(f\"Horno Apagado\")"
      ],
      "metadata": {
        "id": "0_nNsJ3C8qIY",
        "outputId": "14165f16-9db5-45db-a2e7-70e8419d368f",
        "colab": {
          "base_uri": "https://localhost:8080/"
        }
      },
      "execution_count": null,
      "outputs": [
        {
          "output_type": "stream",
          "name": "stdout",
          "text": [
            "Ingrese el estado del Horno (ENCENDIDO/APAGADO)apagado\n",
            "Horno Apagado\n"
          ]
        }
      ]
    },
    {
      "cell_type": "code",
      "source": [],
      "metadata": {
        "id": "pfE2nERl10iy"
      },
      "execution_count": null,
      "outputs": []
    },
    {
      "cell_type": "code",
      "source": [],
      "metadata": {
        "id": "rcxW2YDk10hC"
      },
      "execution_count": null,
      "outputs": []
    },
    {
      "cell_type": "code",
      "source": [],
      "metadata": {
        "id": "oBId-HaA10fN"
      },
      "execution_count": null,
      "outputs": []
    },
    {
      "cell_type": "code",
      "source": [],
      "metadata": {
        "id": "npdQQW5V10dj"
      },
      "execution_count": null,
      "outputs": []
    },
    {
      "cell_type": "code",
      "source": [],
      "metadata": {
        "id": "87zk9Tmn10bt"
      },
      "execution_count": null,
      "outputs": []
    },
    {
      "cell_type": "code",
      "source": [],
      "metadata": {
        "id": "Ri5858_Y10aC"
      },
      "execution_count": null,
      "outputs": []
    },
    {
      "cell_type": "code",
      "source": [],
      "metadata": {
        "id": "hQQMKTDG10YU"
      },
      "execution_count": null,
      "outputs": []
    },
    {
      "cell_type": "code",
      "source": [],
      "metadata": {
        "id": "OgWN7Zz410WF"
      },
      "execution_count": null,
      "outputs": []
    },
    {
      "cell_type": "code",
      "source": [],
      "metadata": {
        "id": "FeDOBpND10UP"
      },
      "execution_count": null,
      "outputs": []
    },
    {
      "cell_type": "code",
      "source": [],
      "metadata": {
        "id": "3yBWC0TT10R2"
      },
      "execution_count": null,
      "outputs": []
    },
    {
      "cell_type": "code",
      "source": [],
      "metadata": {
        "id": "jkBu3TXY10Oe"
      },
      "execution_count": null,
      "outputs": []
    },
    {
      "cell_type": "code",
      "source": [],
      "metadata": {
        "id": "NcmvNs7X10M3"
      },
      "execution_count": null,
      "outputs": []
    },
    {
      "cell_type": "code",
      "source": [],
      "metadata": {
        "id": "e9P-l0A910Ky"
      },
      "execution_count": null,
      "outputs": []
    },
    {
      "cell_type": "code",
      "source": [],
      "metadata": {
        "id": "4LmJS9g710JA"
      },
      "execution_count": null,
      "outputs": []
    },
    {
      "cell_type": "code",
      "source": [],
      "metadata": {
        "id": "UJ7gGsSD10G0"
      },
      "execution_count": null,
      "outputs": []
    },
    {
      "cell_type": "code",
      "source": [],
      "metadata": {
        "id": "cHwjaAsL10E4"
      },
      "execution_count": null,
      "outputs": []
    },
    {
      "cell_type": "code",
      "source": [],
      "metadata": {
        "id": "TH1f7eop10Cs"
      },
      "execution_count": null,
      "outputs": []
    },
    {
      "cell_type": "code",
      "source": [],
      "metadata": {
        "id": "gorDptBq10A5"
      },
      "execution_count": null,
      "outputs": []
    },
    {
      "cell_type": "code",
      "source": [],
      "metadata": {
        "id": "LTmhtacM1z_D"
      },
      "execution_count": null,
      "outputs": []
    },
    {
      "cell_type": "code",
      "source": [],
      "metadata": {
        "id": "NY2zGXi21z9J"
      },
      "execution_count": null,
      "outputs": []
    },
    {
      "cell_type": "code",
      "source": [],
      "metadata": {
        "id": "Aqq-MJNw1z6n"
      },
      "execution_count": null,
      "outputs": []
    },
    {
      "cell_type": "code",
      "source": [],
      "metadata": {
        "id": "7uIpz-sW1z42"
      },
      "execution_count": null,
      "outputs": []
    },
    {
      "cell_type": "code",
      "source": [],
      "metadata": {
        "id": "fmEC8cuz1z3A"
      },
      "execution_count": null,
      "outputs": []
    },
    {
      "cell_type": "code",
      "source": [],
      "metadata": {
        "id": "JDP3yEka1z09"
      },
      "execution_count": null,
      "outputs": []
    },
    {
      "cell_type": "code",
      "source": [],
      "metadata": {
        "id": "lsGE4opr1zy1"
      },
      "execution_count": null,
      "outputs": []
    },
    {
      "cell_type": "code",
      "source": [],
      "metadata": {
        "id": "ipwWDF7t1sXO"
      },
      "execution_count": null,
      "outputs": []
    }
  ]
}